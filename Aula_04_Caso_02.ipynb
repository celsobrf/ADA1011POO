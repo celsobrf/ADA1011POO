{
  "nbformat": 4,
  "nbformat_minor": 0,
  "metadata": {
    "colab": {
      "provenance": []
    },
    "kernelspec": {
      "name": "python3",
      "display_name": "Python 3"
    },
    "language_info": {
      "name": "python"
    }
  },
  "cells": [
    {
      "cell_type": "markdown",
      "source": [
        "**Estudo de Caso 2:**\n",
        "Como garantir que clientes da aula anterior não possuam múltiplas contas bancárias, contas não possuam múltiplos clientes e clientes sempre possuam CPFs válidos.\n",
        "\n",
        "https://github.com/FelippoDev/Validador_CPF/blob/master/cpf_validador.py"
      ],
      "metadata": {
        "id": "k07sckRjR8kD"
      }
    },
    {
      "cell_type": "code",
      "execution_count": 40,
      "metadata": {
        "id": "Hu6Ca0oWBlbS"
      },
      "outputs": [],
      "source": [
        "from datetime import datetime\n",
        "\n",
        "class Conta:\n",
        "\n",
        "  __titular = None\n",
        "\n",
        "  def __init__(self, tipo, cliente):\n",
        "    if len(cliente.contas) < 2:\n",
        "      self.__titular = cliente\n",
        "      self.incio = datetime.now()\n",
        "      self.tipo = tipo\n",
        "      self.numero = 0\n",
        "      self.saldo = 0\n",
        "      self.log = []\n",
        "    else:\n",
        "      raise Exception('Cliente já possui uma conta!!')\n",
        "\n",
        "  def __str__(self):\n",
        "    return f'Tipo: {self.tipo} - Número: {self.numero} - Titular: {self.__titular} - Saldo: {self.saldo:.2f}'\n",
        "\n",
        "  def sacar(self, valor):\n",
        "    if valor <= self.saldo:\n",
        "      self.saldo -= valor\n",
        "      self.log.append([datetime.now(),'Saque realizado.',valor, self.saldo])\n",
        "      return True\n",
        "    else:\n",
        "      return False\n",
        "\n",
        "  def depositar(self, valor):\n",
        "    self.saldo += valor\n",
        "    self.log.append([datetime.now(),'Depósito realizado.',valor, self.saldo])\n",
        "    return True\n",
        "\n",
        "  def transferencia(self, valor, conta):\n",
        "    if valor <= self.saldo:\n",
        "      self.saldo -= valor\n",
        "      self.log.append([datetime.now(),'Transferencia realizada.',valor, self.saldo])\n",
        "      conta.saldo +=valor\n",
        "      conta.log.append([datetime.now(),'Transferencia recebida.',valor, self.saldo])\n",
        "      return True\n",
        "    else:\n",
        "      return False\n",
        "\n",
        "  def saldo(self):\n",
        "    return self.saldo\n",
        "\n",
        "  def extrato(self):\n",
        "    for registro in self.log:\n",
        "      print(f'Data/Hora: {registro[0].strftime(\"%d/%m/%Y %H:%M:%S\")} - Descrição: {registro[1]} - Valor: {registro[2]:.2f} - Saldo: {registro[3]:.2f}')\n",
        "\n",
        "\n",
        "class Cliente:\n",
        "\n",
        "  __cpf = None\n",
        "  __contas = []\n",
        "\n",
        "  def __init__(self, nome, cpf):\n",
        "    self.nome = nome\n",
        "    self.set_cpf(cpf)\n",
        "    self.__contas = []\n",
        "\n",
        "  def __str__(self):\n",
        "    return f'{self.nome} ({self.get_cpf()})'\n",
        "\n",
        "  def get_cpf(self):\n",
        "    return self.__cpf\n",
        "\n",
        "  def set_cpf(self, cpf):\n",
        "    if self.validadorCPF(cpf):\n",
        "      self.__cpf = cpf\n",
        "    else:\n",
        "      raise ValueError('CPF Inválido!!')\n",
        "\n",
        "  def nova_conta(self,tipo):\n",
        "      self.__contas.append(Conta(tipo,self))\n",
        "\n",
        "  @property\n",
        "  def contas(self):\n",
        "    return self.__contas\n",
        "\n",
        "  def saldo(self):\n",
        "    for conta in self.contas:\n",
        "      print(conta)\n",
        "\n",
        "  def validadorCPF(self,cpf):\n",
        "    cont = 0\n",
        "    fixa = [10, 9, 8, 7, 6, 5, 4, 3, 2]\n",
        "    n_cpf = []\n",
        "    for x in cpf:\n",
        "        if x.isnumeric():\n",
        "            if cont < 9:\n",
        "                cont += 1\n",
        "                n_cpf.append(int(x))\n",
        "\n",
        "    validador_n1 = list(zip(n_cpf, fixa))\n",
        "    validador_n1 = [a * b for (a, b) in validador_n1]\n",
        "    validador_n1 = (sum(validador_n1) * 10) % 11\n",
        "    if validador_n1 == 10:\n",
        "        validador_n1 = 0\n",
        "\n",
        "    if str(validador_n1) != cpf[-2]:\n",
        "        return False\n",
        "    else:\n",
        "        fixa = [11, 10, 9, 8, 7, 6, 5, 4, 3, 2]\n",
        "        n_cpf.append(validador_n1)\n",
        "        validador_n2 = list(zip(n_cpf, fixa))\n",
        "        validador_n2 = [a * b for (a, b) in validador_n2]\n",
        "        validador_n2 = (sum(validador_n2) * 10) % 11\n",
        "        if validador_n2 == 10:\n",
        "            validador_n2 = 0\n",
        "        if str(validador_n1) == cpf[0] or str(validador_n1) == cpf[1] or str(validador_n1) == cpf[2]:\n",
        "            return False\n",
        "        else:\n",
        "            if str(validador_n1) + str(validador_n2) == cpf[-2:]:\n",
        "                return True\n",
        "            else:\n",
        "                return False\n",
        "\n",
        "cliente = Cliente('Celso Romero','807.617.715-49')"
      ]
    },
    {
      "cell_type": "code",
      "source": [
        "cliente.nova_conta('Corrente')\n",
        "cliente.nova_conta('Poupança')"
      ],
      "metadata": {
        "id": "0s3kbmsPCacV"
      },
      "execution_count": 41,
      "outputs": []
    },
    {
      "cell_type": "code",
      "source": [
        "cliente.contas[0].depositar(1000)"
      ],
      "metadata": {
        "colab": {
          "base_uri": "https://localhost:8080/"
        },
        "id": "e9-FVCytZcXm",
        "outputId": "b3396b40-ab35-4cf3-ff8c-7a012560b703"
      },
      "execution_count": 42,
      "outputs": [
        {
          "output_type": "execute_result",
          "data": {
            "text/plain": [
              "True"
            ]
          },
          "metadata": {},
          "execution_count": 42
        }
      ]
    },
    {
      "cell_type": "code",
      "source": [
        "cliente.contas[1].saldo"
      ],
      "metadata": {
        "colab": {
          "base_uri": "https://localhost:8080/"
        },
        "id": "4J9N4up9CgIz",
        "outputId": "4c6594e0-3b3f-44b6-dae8-16cbc09784a5"
      },
      "execution_count": 43,
      "outputs": [
        {
          "output_type": "execute_result",
          "data": {
            "text/plain": [
              "0"
            ]
          },
          "metadata": {},
          "execution_count": 43
        }
      ]
    },
    {
      "cell_type": "code",
      "source": [
        "cliente.contas[0].extrato()"
      ],
      "metadata": {
        "colab": {
          "base_uri": "https://localhost:8080/"
        },
        "id": "hoD1ZmoCawAl",
        "outputId": "975bf182-1b9b-4463-80e5-30d26f9885a9"
      },
      "execution_count": 44,
      "outputs": [
        {
          "output_type": "stream",
          "name": "stdout",
          "text": [
            "Data/Hora: 10/08/2023 03:27:58 - Descrição: Depósito realizado. - Valor: 1000.00 - Saldo: 1000.00\n"
          ]
        }
      ]
    },
    {
      "cell_type": "code",
      "source": [
        "cliente.contas[1].depositar(150)\n",
        "cliente.contas[0].depositar(10)"
      ],
      "metadata": {
        "colab": {
          "base_uri": "https://localhost:8080/"
        },
        "id": "1QeHf2BDlCc3",
        "outputId": "7f7a9134-33ea-4d78-a0b0-a85b849e960f"
      },
      "execution_count": 45,
      "outputs": [
        {
          "output_type": "execute_result",
          "data": {
            "text/plain": [
              "True"
            ]
          },
          "metadata": {},
          "execution_count": 45
        }
      ]
    },
    {
      "cell_type": "code",
      "source": [
        "cliente.saldo()"
      ],
      "metadata": {
        "colab": {
          "base_uri": "https://localhost:8080/"
        },
        "id": "iw-oy06dlWlQ",
        "outputId": "c00a219f-d6cb-47c6-8641-9d8da74c6746"
      },
      "execution_count": 46,
      "outputs": [
        {
          "output_type": "stream",
          "name": "stdout",
          "text": [
            "Tipo: Corrente - Número: 0 - Titular: Celso Romero (807.617.715-49) - Saldo: 1010.00\n",
            "Tipo: Poupança - Número: 0 - Titular: Celso Romero (807.617.715-49) - Saldo: 150.00\n"
          ]
        }
      ]
    },
    {
      "cell_type": "code",
      "source": [
        "print(cliente)"
      ],
      "metadata": {
        "colab": {
          "base_uri": "https://localhost:8080/"
        },
        "id": "AoexTo8ioMgQ",
        "outputId": "251eeae5-f965-455f-82d7-758604609a98"
      },
      "execution_count": 47,
      "outputs": [
        {
          "output_type": "stream",
          "name": "stdout",
          "text": [
            "Celso Romero (807.617.715-49)\n"
          ]
        }
      ]
    },
    {
      "cell_type": "code",
      "source": [
        "cliente02 = Cliente('João','123.456.789-00')"
      ],
      "metadata": {
        "colab": {
          "base_uri": "https://localhost:8080/",
          "height": 321
        },
        "id": "pRBtUZqSlio1",
        "outputId": "82b42e13-cf91-41f4-fe67-5f92f7bdae23"
      },
      "execution_count": 48,
      "outputs": [
        {
          "output_type": "error",
          "ename": "ValueError",
          "evalue": "ignored",
          "traceback": [
            "\u001b[0;31m---------------------------------------------------------------------------\u001b[0m",
            "\u001b[0;31mValueError\u001b[0m                                Traceback (most recent call last)",
            "\u001b[0;32m<ipython-input-48-4916f95dc593>\u001b[0m in \u001b[0;36m<cell line: 1>\u001b[0;34m()\u001b[0m\n\u001b[0;32m----> 1\u001b[0;31m \u001b[0mcliente02\u001b[0m \u001b[0;34m=\u001b[0m \u001b[0mCliente\u001b[0m\u001b[0;34m(\u001b[0m\u001b[0;34m'João'\u001b[0m\u001b[0;34m,\u001b[0m\u001b[0;34m'123.456.789-00'\u001b[0m\u001b[0;34m)\u001b[0m\u001b[0;34m\u001b[0m\u001b[0;34m\u001b[0m\u001b[0m\n\u001b[0m",
            "\u001b[0;32m<ipython-input-40-160c735a972e>\u001b[0m in \u001b[0;36m__init__\u001b[0;34m(self, nome, cpf)\u001b[0m\n\u001b[1;32m     57\u001b[0m   \u001b[0;32mdef\u001b[0m \u001b[0m__init__\u001b[0m\u001b[0;34m(\u001b[0m\u001b[0mself\u001b[0m\u001b[0;34m,\u001b[0m \u001b[0mnome\u001b[0m\u001b[0;34m,\u001b[0m \u001b[0mcpf\u001b[0m\u001b[0;34m)\u001b[0m\u001b[0;34m:\u001b[0m\u001b[0;34m\u001b[0m\u001b[0;34m\u001b[0m\u001b[0m\n\u001b[1;32m     58\u001b[0m     \u001b[0mself\u001b[0m\u001b[0;34m.\u001b[0m\u001b[0mnome\u001b[0m \u001b[0;34m=\u001b[0m \u001b[0mnome\u001b[0m\u001b[0;34m\u001b[0m\u001b[0;34m\u001b[0m\u001b[0m\n\u001b[0;32m---> 59\u001b[0;31m     \u001b[0mself\u001b[0m\u001b[0;34m.\u001b[0m\u001b[0mset_cpf\u001b[0m\u001b[0;34m(\u001b[0m\u001b[0mcpf\u001b[0m\u001b[0;34m)\u001b[0m\u001b[0;34m\u001b[0m\u001b[0;34m\u001b[0m\u001b[0m\n\u001b[0m\u001b[1;32m     60\u001b[0m     \u001b[0mself\u001b[0m\u001b[0;34m.\u001b[0m\u001b[0m__contas\u001b[0m \u001b[0;34m=\u001b[0m \u001b[0;34m[\u001b[0m\u001b[0;34m]\u001b[0m\u001b[0;34m\u001b[0m\u001b[0;34m\u001b[0m\u001b[0m\n\u001b[1;32m     61\u001b[0m \u001b[0;34m\u001b[0m\u001b[0m\n",
            "\u001b[0;32m<ipython-input-40-160c735a972e>\u001b[0m in \u001b[0;36mset_cpf\u001b[0;34m(self, cpf)\u001b[0m\n\u001b[1;32m     70\u001b[0m       \u001b[0mself\u001b[0m\u001b[0;34m.\u001b[0m\u001b[0m__cpf\u001b[0m \u001b[0;34m=\u001b[0m \u001b[0mcpf\u001b[0m\u001b[0;34m\u001b[0m\u001b[0;34m\u001b[0m\u001b[0m\n\u001b[1;32m     71\u001b[0m     \u001b[0;32melse\u001b[0m\u001b[0;34m:\u001b[0m\u001b[0;34m\u001b[0m\u001b[0;34m\u001b[0m\u001b[0m\n\u001b[0;32m---> 72\u001b[0;31m       \u001b[0;32mraise\u001b[0m \u001b[0mValueError\u001b[0m\u001b[0;34m(\u001b[0m\u001b[0;34m'CPF Inválido!!'\u001b[0m\u001b[0;34m)\u001b[0m\u001b[0;34m\u001b[0m\u001b[0;34m\u001b[0m\u001b[0m\n\u001b[0m\u001b[1;32m     73\u001b[0m \u001b[0;34m\u001b[0m\u001b[0m\n\u001b[1;32m     74\u001b[0m   \u001b[0;32mdef\u001b[0m \u001b[0mnova_conta\u001b[0m\u001b[0;34m(\u001b[0m\u001b[0mself\u001b[0m\u001b[0;34m,\u001b[0m\u001b[0mtipo\u001b[0m\u001b[0;34m)\u001b[0m\u001b[0;34m:\u001b[0m\u001b[0;34m\u001b[0m\u001b[0;34m\u001b[0m\u001b[0m\n",
            "\u001b[0;31mValueError\u001b[0m: CPF Inválido!!"
          ]
        }
      ]
    },
    {
      "cell_type": "code",
      "source": [],
      "metadata": {
        "id": "ltsO3QuZfSl3"
      },
      "execution_count": null,
      "outputs": []
    }
  ]
}