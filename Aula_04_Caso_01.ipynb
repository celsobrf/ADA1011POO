{
  "nbformat": 4,
  "nbformat_minor": 0,
  "metadata": {
    "colab": {
      "provenance": []
    },
    "kernelspec": {
      "name": "python3",
      "display_name": "Python 3"
    },
    "language_info": {
      "name": "python"
    }
  },
  "cells": [
    {
      "cell_type": "markdown",
      "source": [
        "**Estudo de Caso 1:**\n",
        "Como evitar que as frações das aulas anteriores recebam denominador igual a zero."
      ],
      "metadata": {
        "id": "k07sckRjR8kD"
      }
    },
    {
      "cell_type": "code",
      "execution_count": 27,
      "metadata": {
        "colab": {
          "base_uri": "https://localhost:8080/"
        },
        "id": "Hu6Ca0oWBlbS",
        "outputId": "7adc9288-653f-4e03-eb5d-541aa6a79b10"
      },
      "outputs": [
        {
          "output_type": "stream",
          "name": "stdout",
          "text": [
            "Numerador: 15 e Denominador: 24\n"
          ]
        }
      ],
      "source": [
        "class Fracao:\n",
        "\n",
        "  __numerador = None\n",
        "  __denominador = None\n",
        "\n",
        "  def __init__(self, numerador, denominador):\n",
        "    if denominador == 0:\n",
        "      raise ZeroDivisionError('Erro de divisão por zero!!')\n",
        "    else:\n",
        "      self.numerador = numerador\n",
        "      self.denominador = denominador\n",
        "\n",
        "  @property\n",
        "  def numerador(self):\n",
        "    return self.__numerador\n",
        "\n",
        "  @property\n",
        "  def denominador(self):\n",
        "    return self.__denominador\n",
        "\n",
        "  @numerador.setter\n",
        "  def numerador(self, numerador):\n",
        "    self.__numerador = numerador\n",
        "\n",
        "  @denominador.setter\n",
        "  def denominador(self, denominador):\n",
        "    if denominador == 0:\n",
        "      raise ZeroDivisionError('Erro de divisão por zero!!')\n",
        "    else:\n",
        "      self.__denominador = denominador\n",
        "\n",
        "  def __str__(self):\n",
        "        return f'{self.numerador}/{self.denominador}'\n",
        "\n",
        "  def soma(self, fracao):\n",
        "    if fracao.denominador == self.denominador:\n",
        "      return Fracao(fracao.numerador + self.numerador,fracao.denominador )\n",
        "    else:\n",
        "      return Fracao(fracao.numerador*self.denominador+self.numerador*fracao.denominador,fracao.denominador*self.denominador )\n",
        "\n",
        "  def __add__(self, fracao):\n",
        "    return self.soma(fracao)\n",
        "\n",
        "  def subtracao(self, fracao):\n",
        "    if fracao.denominador == self.denominador:\n",
        "      return Fracao(fracao.numerador - self.numerador,fracao.denominador )\n",
        "    else:\n",
        "      return Fracao(fracao.numerador*self.denominador-self.numerador*fracao.denominador,fracao.denominador*self.denominador )\n",
        "\n",
        "  def __sub__(self, fracao):\n",
        "    return self.subtracao(fracao)\n",
        "\n",
        "  def multiplicacao(self, fracao):\n",
        "    return Fracao(fracao.numerador*self.numerador, fracao.denominador*self.denominador)\n",
        "\n",
        "  def __mul__(self, fracao):\n",
        "    return self.multiplicacao(fracao)\n",
        "\n",
        "  def divisao(self, fracao):\n",
        "    return Fracao(self.numerador*fracao.denominador, self.denominador*fracao.numerador)\n",
        "\n",
        "  def __truediv__(self, fracao):\n",
        "    return self.divisao(fracao)\n",
        "\n",
        "fracao1 = Fracao(15,8)\n",
        "fracao2 = Fracao(3,1)\n",
        "\n",
        "resultado = fracao1.divisao(fracao2)\n",
        "print(f\"Numerador: {resultado.numerador} e Denominador: {resultado.denominador}\")"
      ]
    },
    {
      "cell_type": "code",
      "source": [
        "print(fracao1+fracao2)\n",
        "print(fracao1-fracao2)\n",
        "print(fracao1*fracao2)\n",
        "print(fracao1/fracao2)"
      ],
      "metadata": {
        "colab": {
          "base_uri": "https://localhost:8080/"
        },
        "id": "qF5YlnbafiWP",
        "outputId": "cfd6deaa-4c81-412c-9844-728c628622e9"
      },
      "execution_count": 28,
      "outputs": [
        {
          "output_type": "stream",
          "name": "stdout",
          "text": [
            "39/8\n",
            "9/8\n",
            "45/8\n",
            "15/24\n"
          ]
        }
      ]
    },
    {
      "cell_type": "code",
      "source": [
        "fracao3 = Fracao(15,0)"
      ],
      "metadata": {
        "colab": {
          "base_uri": "https://localhost:8080/",
          "height": 297
        },
        "id": "WVhC5R5CiJ3z",
        "outputId": "cade0530-7864-4af2-f439-a8b39615c6b1"
      },
      "execution_count": 29,
      "outputs": [
        {
          "output_type": "error",
          "ename": "ZeroDivisionError",
          "evalue": "ignored",
          "traceback": [
            "\u001b[0;31m---------------------------------------------------------------------------\u001b[0m",
            "\u001b[0;31mZeroDivisionError\u001b[0m                         Traceback (most recent call last)",
            "\u001b[0;32m<ipython-input-29-dfe9a9355877>\u001b[0m in \u001b[0;36m<cell line: 1>\u001b[0;34m()\u001b[0m\n\u001b[0;32m----> 1\u001b[0;31m \u001b[0mfracao3\u001b[0m \u001b[0;34m=\u001b[0m \u001b[0mFracao\u001b[0m\u001b[0;34m(\u001b[0m\u001b[0;36m15\u001b[0m\u001b[0;34m,\u001b[0m\u001b[0;36m0\u001b[0m\u001b[0;34m)\u001b[0m\u001b[0;34m\u001b[0m\u001b[0;34m\u001b[0m\u001b[0m\n\u001b[0m",
            "\u001b[0;32m<ipython-input-27-24af90ec3f4d>\u001b[0m in \u001b[0;36m__init__\u001b[0;34m(self, numerador, denominador)\u001b[0m\n\u001b[1;32m      6\u001b[0m   \u001b[0;32mdef\u001b[0m \u001b[0m__init__\u001b[0m\u001b[0;34m(\u001b[0m\u001b[0mself\u001b[0m\u001b[0;34m,\u001b[0m \u001b[0mnumerador\u001b[0m\u001b[0;34m,\u001b[0m \u001b[0mdenominador\u001b[0m\u001b[0;34m)\u001b[0m\u001b[0;34m:\u001b[0m\u001b[0;34m\u001b[0m\u001b[0;34m\u001b[0m\u001b[0m\n\u001b[1;32m      7\u001b[0m     \u001b[0;32mif\u001b[0m \u001b[0mdenominador\u001b[0m \u001b[0;34m==\u001b[0m \u001b[0;36m0\u001b[0m\u001b[0;34m:\u001b[0m\u001b[0;34m\u001b[0m\u001b[0;34m\u001b[0m\u001b[0m\n\u001b[0;32m----> 8\u001b[0;31m       \u001b[0;32mraise\u001b[0m \u001b[0mZeroDivisionError\u001b[0m\u001b[0;34m(\u001b[0m\u001b[0;34m'Erro de divisão por zero!!'\u001b[0m\u001b[0;34m)\u001b[0m\u001b[0;34m\u001b[0m\u001b[0;34m\u001b[0m\u001b[0m\n\u001b[0m\u001b[1;32m      9\u001b[0m     \u001b[0;32melse\u001b[0m\u001b[0;34m:\u001b[0m\u001b[0;34m\u001b[0m\u001b[0;34m\u001b[0m\u001b[0m\n\u001b[1;32m     10\u001b[0m       \u001b[0mself\u001b[0m\u001b[0;34m.\u001b[0m\u001b[0mnumerador\u001b[0m \u001b[0;34m=\u001b[0m \u001b[0mnumerador\u001b[0m\u001b[0;34m\u001b[0m\u001b[0;34m\u001b[0m\u001b[0m\n",
            "\u001b[0;31mZeroDivisionError\u001b[0m: Erro de divisão por zero!!"
          ]
        }
      ]
    }
  ]
}