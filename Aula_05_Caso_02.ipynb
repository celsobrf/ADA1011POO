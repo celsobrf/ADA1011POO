{
  "nbformat": 4,
  "nbformat_minor": 0,
  "metadata": {
    "colab": {
      "provenance": []
    },
    "kernelspec": {
      "name": "python3",
      "display_name": "Python 3"
    },
    "language_info": {
      "name": "python"
    }
  },
  "cells": [
    {
      "cell_type": "markdown",
      "source": [
        "**Estudo de Caso 2:**\n",
        "Como utilizar a própria classe cliente de aulas anteriores para armazenar, buscar e acessar todos os objetos cliente instanciados."
      ],
      "metadata": {
        "id": "k07sckRjR8kD"
      }
    },
    {
      "cell_type": "code",
      "execution_count": 1,
      "metadata": {
        "id": "Hu6Ca0oWBlbS"
      },
      "outputs": [],
      "source": [
        "class Cliente:\n",
        "\n",
        "  __cpf = None\n",
        "  __nome = None\n",
        "  __clientes = []\n",
        "\n",
        "  def __init__(self, nome, cpf):\n",
        "    self.set_cpf(cpf)\n",
        "    self.set_nome(nome)\n",
        "    Cliente.__clientes.append(self)\n",
        "\n",
        "  def __str__(self):\n",
        "    return f'{self.nome} ({self.cpf})'\n",
        "\n",
        "  def set_cpf(self, cpf):\n",
        "    if self.validadorCPF(cpf):\n",
        "      self.__cpf = cpf\n",
        "    else:\n",
        "      raise KeyError('CPF inválido!!')\n",
        "\n",
        "  def set_nome(self, nome):\n",
        "    self.__nome = nome\n",
        "\n",
        "  @property\n",
        "  def cpf(self):\n",
        "    return self.__cpf\n",
        "\n",
        "  @property\n",
        "  def nome(self):\n",
        "    return self.__nome\n",
        "\n",
        "  @classmethod\n",
        "  def buscaCliente(cls, cpf):\n",
        "    return [cliente for cliente in cls.__clientes if cliente.cpf == cpf]\n",
        "\n",
        "  @classmethod\n",
        "  def validadorCPF(self,cpf):\n",
        "    \"\"\"Método para validar CPF. Não implementamos mas caso queira é só desenvolver a logica dentro do método\"\"\"\n",
        "    return True"
      ]
    },
    {
      "cell_type": "code",
      "source": [
        "cliente01 = Cliente('Celso Romero','80761771549')\n",
        "print(cliente01)"
      ],
      "metadata": {
        "colab": {
          "base_uri": "https://localhost:8080/"
        },
        "id": "0s3kbmsPCacV",
        "outputId": "8e8c4743-377d-41e4-b897-6b3d229b0c64"
      },
      "execution_count": null,
      "outputs": [
        {
          "output_type": "stream",
          "name": "stdout",
          "text": [
            "Celso Romero (80761771549)\n"
          ]
        }
      ]
    },
    {
      "cell_type": "code",
      "source": [
        "cliente02 = Cliente('Maria de Fatima','08009660582')\n",
        "print(cliente02)"
      ],
      "metadata": {
        "colab": {
          "base_uri": "https://localhost:8080/"
        },
        "id": "4J9N4up9CgIz",
        "outputId": "d3bc9880-acea-4ce8-b655-d14d719f777f"
      },
      "execution_count": 2,
      "outputs": [
        {
          "output_type": "stream",
          "name": "stdout",
          "text": [
            "Maria de Fatima (08009660582)\n"
          ]
        }
      ]
    },
    {
      "cell_type": "code",
      "source": [
        "resultado = Cliente.buscaCliente('08009660582')\n",
        "if resultado[0] == True:\n",
        "  print(resultado[1])\n",
        "else:\n",
        "  print('Cliente não localizado')"
      ],
      "metadata": {
        "colab": {
          "base_uri": "https://localhost:8080/"
        },
        "id": "guYXCu409tNu",
        "outputId": "e2bdc260-237d-49e7-f3c5-a4afacb2cadd"
      },
      "execution_count": 4,
      "outputs": [
        {
          "output_type": "stream",
          "name": "stdout",
          "text": [
            "Cliente não localizado\n"
          ]
        }
      ]
    }
  ]
}